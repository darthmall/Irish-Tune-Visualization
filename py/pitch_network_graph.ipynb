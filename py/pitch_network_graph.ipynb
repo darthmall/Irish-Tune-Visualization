{
 "metadata": {
  "name": "pitch_network_graph"
 }, 
 "nbformat": 2, 
 "worksheets": [
  {
   "cells": [
    {
     "cell_type": "markdown", 
     "source": [
      "# Pitch Network Graph"
     ]
    }, 
    {
     "cell_type": "code", 
     "collapsed": false, 
     "input": [
      "import os", 
      "os.environ.setdefault('DJANGO_SETTINGS_MODULE', 'tune_viz.settings')", 
      "", 
      "from tune_viz.models import *", 
      "import math, music21, pygraphviz as pgv", 
      "", 
      "music21.corpus.addPath('corpus')"
     ], 
     "language": "python", 
     "outputs": [
      {
       "output_type": "stream", 
       "stream": "stderr", 
       "text": [
        "music21: Certain music21 functions might need the optional package PIL; if you run into errors, install it by following the instructions at http://mit.edu/music21/doc/html/installAdditional.html"
       ]
      }
     ], 
     "prompt_number": 1
    }, 
    {
     "cell_type": "code", 
     "collapsed": false, 
     "input": [
      "tunes = Tune.objects.filter(rhythm='jig', key__accidentals='s', key__number_of_accidentals=2)", 
      "print(tunes.count())"
     ], 
     "language": "python", 
     "outputs": [
      {
       "output_type": "stream", 
       "stream": "stdout", 
       "text": [
        "1026"
       ]
      }
     ], 
     "prompt_number": 2
    }, 
    {
     "cell_type": "markdown", 
     "source": [
      "## Function to iterate over bigrams in a sequence"
     ]
    }, 
    {
     "cell_type": "code", 
     "collapsed": true, 
     "input": [
      "def iter_bigrams(iterable):", 
      "    i = iter(iterable)", 
      "    prev = None", 
      "    current = None", 
      "    try:", 
      "        current = i.next()", 
      "        while True:", 
      "            prev = current", 
      "            current = i.next()", 
      "            yield (prev, current)", 
      "    except StopIteration:", 
      "        current = None", 
      "        ", 
      "def is_single_note(item):", 
      "    key = item[0]", 
      "    return ((isinstance(key, list) or isinstance(key, tuple)) and len(key) is 1)", 
      "", 
      "def is_pair(item):", 
      "    return (not is_single_note(item))", 
      "", 
      "def create_key(note):", 
      "    if note.isRest:", 
      "        return (note.fullName, 0, note.duration.quarterLength)", 
      "    elif note.isChord:", 
      "        return (note.pitches[0].nameWithOctave, note.pitches[0].ps, note.duration.quarterLength)", 
      "    else:", 
      "        return (note.nameWithOctave, note.ps, note.duration.quarterLength)", 
      "    ", 
      "def calculate_probabilities(scores):", 
      "    notes = {}", 
      "    bigrams = {}", 
      "    ", 
      "    for score in scores:", 
      "        for note in score.flat.notesAndRests:", 
      "            key = create_key(note)", 
      "            notes[key] = notes.get(key, 0) + 1", 
      "            ", 
      "        for gram in iter_bigrams(score.flat.notesAndRests):", 
      "            pair = (create_key(gram[0]), create_key(gram[1]))", 
      "            bigrams[pair] = bigrams.get(pair, 0) + 1", 
      "            ", 
      "    total_notes = sum(notes.values())", 
      "    total_pairs = sum(bigrams.values())", 
      "", 
      "    for note, freq in notes.iteritems():", 
      "        notes[note] = float(freq) / total_notes", 
      "    ", 
      "    for pair, freq in bigrams.iteritems():", 
      "        bigrams[pair] = (float(freq) / total_pairs) / float(notes[pair[0]])", 
      "        ", 
      "    return (notes, bigrams)"
     ], 
     "language": "python", 
     "outputs": [], 
     "prompt_number": 3
    }, 
    {
     "cell_type": "code", 
     "collapsed": true, 
     "input": [
      "jig_scores = []", 
      "for tune in tunes.values_list('raw_abc', flat=True):", 
      "    try:", 
      "        jig_scores.append(music21.converter.parseData(tune, format='abc'))", 
      "    except:", 
      "        pass"
     ], 
     "language": "python", 
     "outputs": [], 
     "prompt_number": 4
    }, 
    {
     "cell_type": "code", 
     "collapsed": false, 
     "input": [
      "jig_note_frequencies, jig_bigrams = calculate_probabilities(jig_scores)"
     ], 
     "language": "python", 
     "outputs": [
      {
       "ename": "IndexError", 
       "evalue": "list index out of range", 
       "output_type": "pyerr", 
       "traceback": [
        "\u001b[0;31m---------------------------------------------------------------------------\u001b[0m\n\u001b[0;31mIndexError\u001b[0m                                Traceback (most recent call last)", 
        "\u001b[0;32m/Users/esheehan/Projects/Tune_Viz/py/<ipython-input-5-5742dfff4df4>\u001b[0m in \u001b[0;36m<module>\u001b[0;34m()\u001b[0m\n\u001b[0;32m----> 1\u001b[0;31m \u001b[0mjig_note_frequencies\u001b[0m\u001b[0;34m,\u001b[0m \u001b[0mjig_bigrams\u001b[0m \u001b[0;34m=\u001b[0m \u001b[0mcalculate_probabilities\u001b[0m\u001b[0;34m(\u001b[0m\u001b[0mjig_scores\u001b[0m\u001b[0;34m)\u001b[0m\u001b[0;34m\u001b[0m\u001b[0m\n\u001b[0m", 
        "\u001b[0;32m/Users/esheehan/Projects/Tune_Viz/py/<ipython-input-3-2d035ec90948>\u001b[0m in \u001b[0;36mcalculate_probabilities\u001b[0;34m(scores)\u001b[0m\n\u001b[1;32m     33\u001b[0m     \u001b[0;32mfor\u001b[0m \u001b[0mscore\u001b[0m \u001b[0;32min\u001b[0m \u001b[0mscores\u001b[0m\u001b[0;34m:\u001b[0m\u001b[0;34m\u001b[0m\u001b[0m\n\u001b[1;32m     34\u001b[0m         \u001b[0;32mfor\u001b[0m \u001b[0mnote\u001b[0m \u001b[0;32min\u001b[0m \u001b[0mscore\u001b[0m\u001b[0;34m.\u001b[0m\u001b[0mflat\u001b[0m\u001b[0;34m.\u001b[0m\u001b[0mnotesAndRests\u001b[0m\u001b[0;34m:\u001b[0m\u001b[0;34m\u001b[0m\u001b[0m\n\u001b[0;32m---> 35\u001b[0;31m             \u001b[0mkey\u001b[0m \u001b[0;34m=\u001b[0m \u001b[0mcreate_key\u001b[0m\u001b[0;34m(\u001b[0m\u001b[0mnote\u001b[0m\u001b[0;34m)\u001b[0m\u001b[0;34m\u001b[0m\u001b[0m\n\u001b[0m\u001b[1;32m     36\u001b[0m             \u001b[0mnotes\u001b[0m\u001b[0;34m[\u001b[0m\u001b[0mkey\u001b[0m\u001b[0;34m]\u001b[0m \u001b[0;34m=\u001b[0m \u001b[0mnotes\u001b[0m\u001b[0;34m.\u001b[0m\u001b[0mget\u001b[0m\u001b[0;34m(\u001b[0m\u001b[0mkey\u001b[0m\u001b[0;34m,\u001b[0m \u001b[0;36m0\u001b[0m\u001b[0;34m)\u001b[0m \u001b[0;34m+\u001b[0m \u001b[0;36m1\u001b[0m\u001b[0;34m\u001b[0m\u001b[0m\n\u001b[1;32m     37\u001b[0m \u001b[0;34m\u001b[0m\u001b[0m\n", 
        "\u001b[0;32m/Users/esheehan/Projects/Tune_Viz/py/<ipython-input-3-2d035ec90948>\u001b[0m in \u001b[0;36mcreate_key\u001b[0;34m(note)\u001b[0m\n\u001b[1;32m     23\u001b[0m         \u001b[0;32mreturn\u001b[0m \u001b[0;34m(\u001b[0m\u001b[0mnote\u001b[0m\u001b[0;34m.\u001b[0m\u001b[0mfullName\u001b[0m\u001b[0;34m,\u001b[0m \u001b[0;36m0\u001b[0m\u001b[0;34m,\u001b[0m \u001b[0mnote\u001b[0m\u001b[0;34m.\u001b[0m\u001b[0mduration\u001b[0m\u001b[0;34m.\u001b[0m\u001b[0mquarterLength\u001b[0m\u001b[0;34m)\u001b[0m\u001b[0;34m\u001b[0m\u001b[0m\n\u001b[1;32m     24\u001b[0m     \u001b[0;32melif\u001b[0m \u001b[0mnote\u001b[0m\u001b[0;34m.\u001b[0m\u001b[0misChord\u001b[0m\u001b[0;34m:\u001b[0m\u001b[0;34m\u001b[0m\u001b[0m\n\u001b[0;32m---> 25\u001b[0;31m         \u001b[0;32mreturn\u001b[0m \u001b[0;34m(\u001b[0m\u001b[0mnote\u001b[0m\u001b[0;34m.\u001b[0m\u001b[0mpitches\u001b[0m\u001b[0;34m[\u001b[0m\u001b[0;36m0\u001b[0m\u001b[0;34m]\u001b[0m\u001b[0;34m.\u001b[0m\u001b[0mnameWithOctave\u001b[0m\u001b[0;34m,\u001b[0m \u001b[0mnote\u001b[0m\u001b[0;34m.\u001b[0m\u001b[0mpitches\u001b[0m\u001b[0;34m[\u001b[0m\u001b[0;36m0\u001b[0m\u001b[0;34m]\u001b[0m\u001b[0;34m.\u001b[0m\u001b[0mps\u001b[0m\u001b[0;34m,\u001b[0m \u001b[0mnote\u001b[0m\u001b[0;34m.\u001b[0m\u001b[0mduration\u001b[0m\u001b[0;34m.\u001b[0m\u001b[0mquarterLength\u001b[0m\u001b[0;34m)\u001b[0m\u001b[0;34m\u001b[0m\u001b[0m\n\u001b[0m\u001b[1;32m     26\u001b[0m     \u001b[0;32melse\u001b[0m\u001b[0;34m:\u001b[0m\u001b[0;34m\u001b[0m\u001b[0m\n\u001b[1;32m     27\u001b[0m         \u001b[0;32mreturn\u001b[0m \u001b[0;34m(\u001b[0m\u001b[0mnote\u001b[0m\u001b[0;34m.\u001b[0m\u001b[0mnameWithOctave\u001b[0m\u001b[0;34m,\u001b[0m \u001b[0mnote\u001b[0m\u001b[0;34m.\u001b[0m\u001b[0mps\u001b[0m\u001b[0;34m,\u001b[0m \u001b[0mnote\u001b[0m\u001b[0;34m.\u001b[0m\u001b[0mduration\u001b[0m\u001b[0;34m.\u001b[0m\u001b[0mquarterLength\u001b[0m\u001b[0;34m)\u001b[0m\u001b[0;34m\u001b[0m\u001b[0m\n", 
        "\u001b[0;31mIndexError\u001b[0m: list index out of range"
       ]
      }
     ], 
     "prompt_number": 5
    }, 
    {
     "cell_type": "code", 
     "collapsed": false, 
     "input": [
      "print jig_note_frequencies[None]"
     ], 
     "language": "python", 
     "outputs": [
      {
       "output_type": "stream", 
       "stream": "stdout", 
       "text": [
        "0.000137591799529"
       ]
      }
     ], 
     "prompt_number": 27
    }, 
    {
     "cell_type": "code", 
     "collapsed": false, 
     "input": [
      "print('Distinct notes: {}'.format(len(jig_note_frequencies)))", 
      "print('Notes: {}'.format(sum(jig_note_frequencies.values())))", 
      "print('Highest Probability: {}'.format(max(jig_bigrams.values())))"
     ], 
     "language": "python", 
     "outputs": [
      {
       "output_type": "stream", 
       "stream": "stdout", 
       "text": [
        "Distinct notes: 186", 
        "Notes: 1.0", 
        "Highest Probability: 1.00889286055"
       ]
      }
     ], 
     "prompt_number": 24
    }, 
    {
     "cell_type": "code", 
     "collapsed": true, 
     "input": [
      "bach = [music21.corpus.parse('bach_sonatas/partita1-2.xml'),", 
      "        music21.corpus.parse('bach_sonatas/partita1-3.xml'),", 
      "        music21.corpus.parse('bach_sonatas/partita1-4.xml'),", 
      "        music21.corpus.parse('bach_sonatas/partita1-6.xml'),", 
      "        music21.corpus.parse('bach_sonatas/partita1-8.xml')]", 
      "", 
      "bach_notes, bach_bigrams = calculate_probabilities(bach)"
     ], 
     "language": "python", 
     "outputs": [], 
     "prompt_number": 12
    }, 
    {
     "cell_type": "code", 
     "collapsed": false, 
     "input": [
      "len(bach[0].getElementsByClass(music21.stream.Part))"
     ], 
     "language": "python", 
     "outputs": [
      {
       "output_type": "pyout", 
       "prompt_number": 16, 
       "text": [
        "1"
       ]
      }
     ], 
     "prompt_number": 16
    }, 
    {
     "cell_type": "code", 
     "collapsed": false, 
     "input": [
      "print('Distinct notes: {}'.format(len(bach_notes)))", 
      "print('Notes: {}'.format(sum(bach_notes.values())))", 
      "print('Highest Probability: {}'.format(max(bach_bigrams.values())))"
     ], 
     "language": "python", 
     "outputs": [
      {
       "output_type": "stream", 
       "stream": "stdout", 
       "text": [
        "Distinct notes: 84", 
        "Notes: 1.0", 
        "Highest Probability: 1.00187687688"
       ]
      }
     ], 
     "prompt_number": 13
    }, 
    {
     "cell_type": "code", 
     "collapsed": true, 
     "input": [
      "def plot_pitches(pitch_axes, rest_axes, data):", 
      "    for (name, ps, duration), freq in data.iteritems():", 
      "        e = matplotlib.patches.Circle((duration * 10, ps), math.sqrt(freq * 10 / math.pi))", 
      "        forward[(name, ps, duration)] = e", 
      "        reverse[e] = (name, ps, duration)", 
      "        e.set_picker(True)", 
      "        ellipses.append(e)", 
      "    ", 
      "        if ps is 0:", 
      "            rest_axes.add_patch(e)", 
      "        else:", 
      "            pitch_axes.add_patch(e)"
     ], 
     "language": "python", 
     "outputs": []
    }, 
    {
     "cell_type": "code", 
     "collapsed": false, 
     "input": [
      "from matplotlib.gridspec import GridSpec", 
      "", 
      "fig = plt.figure()", 
      "grid = GridSpec(2, 2)", 
      "", 
      "pitch_axes = fig.add_subplot(grid[0, 0], aspect=1)", 
      "rest_axes = fig.add_subplot(grid[1, 0], aspect=1)", 
      "", 
      "pitch_axes.set_title('Pitches')", 
      "pitch_axes.set_xlabel('Duration')", 
      "pitch_axes.set_ylabel('Frequency')", 
      "", 
      "rest_axes.set_title('Rests')", 
      "rest_axes.set_xlabel('Duration')", 
      "rest_axes.set_ylabel('Frequency')", 
      "", 
      "upper_ps = 0", 
      "lower_ps = 0", 
      "upper_duration = 0", 
      "", 
      "for name, ps, duration in jig_note_frequencies.iterkeys():", 
      "    upper_ps = max(upper_ps, ps)", 
      "    lower_ps = min(upper_ps, ps)", 
      "    upper_duration = max(upper_duration, duration)", 
      "", 
      "pitch_axes.axis([0, upper_duration * 10, lower_ps - 10, upper_ps + 10])", 
      "rest_axes.axis([0, upper_duration * 10, -1, 1])", 
      "", 
      "plot_pitches(pitch_axes, rest_axes, jig_note_frequencies)", 
      "", 
      "# Bach", 
      "pitch_axes = fig.add_subplot(grid[0, 1], aspect=1)", 
      "rest_axes = fig.add_subplot(grid[1, 1], aspect=1)", 
      "", 
      "pitch_axes.axis([0, upper_duration * 10, lower_ps - 10, upper_ps + 10])", 
      "rest_axes.axis([0, upper_duration * 10, -1, 1])", 
      "", 
      "plot_pitches(pitch_axes, rest_axes, bach_notes)"
     ], 
     "language": "python", 
     "outputs": [
      {
       "ename": "TypeError", 
       "evalue": "'NoneType' object is not iterable", 
       "output_type": "pyerr", 
       "traceback": [
        "\u001b[0;31m---------------------------------------------------------------------------\u001b[0m\n\u001b[0;31mTypeError\u001b[0m                                 Traceback (most recent call last)", 
        "\u001b[0;32m/Users/esheehan/Projects/Tune_Viz/py/<ipython-input-25-943be50b927c>\u001b[0m in \u001b[0;36m<module>\u001b[0;34m()\u001b[0m\n\u001b[1;32m     19\u001b[0m \u001b[0mupper_duration\u001b[0m \u001b[0;34m=\u001b[0m \u001b[0;36m0\u001b[0m\u001b[0;34m\u001b[0m\u001b[0m\n\u001b[1;32m     20\u001b[0m \u001b[0;34m\u001b[0m\u001b[0m\n\u001b[0;32m---> 21\u001b[0;31m \u001b[0;32mfor\u001b[0m \u001b[0mname\u001b[0m\u001b[0;34m,\u001b[0m \u001b[0mps\u001b[0m\u001b[0;34m,\u001b[0m \u001b[0mduration\u001b[0m \u001b[0;32min\u001b[0m \u001b[0mjig_note_frequencies\u001b[0m\u001b[0;34m.\u001b[0m\u001b[0miterkeys\u001b[0m\u001b[0;34m(\u001b[0m\u001b[0;34m)\u001b[0m\u001b[0;34m:\u001b[0m\u001b[0;34m\u001b[0m\u001b[0m\n\u001b[0m\u001b[1;32m     22\u001b[0m     \u001b[0mupper_ps\u001b[0m \u001b[0;34m=\u001b[0m \u001b[0mmax\u001b[0m\u001b[0;34m(\u001b[0m\u001b[0mupper_ps\u001b[0m\u001b[0;34m,\u001b[0m \u001b[0mps\u001b[0m\u001b[0;34m)\u001b[0m\u001b[0;34m\u001b[0m\u001b[0m\n\u001b[1;32m     23\u001b[0m     \u001b[0mlower_ps\u001b[0m \u001b[0;34m=\u001b[0m \u001b[0mmin\u001b[0m\u001b[0;34m(\u001b[0m\u001b[0mupper_ps\u001b[0m\u001b[0;34m,\u001b[0m \u001b[0mps\u001b[0m\u001b[0;34m)\u001b[0m\u001b[0;34m\u001b[0m\u001b[0m\n", 
        "\u001b[0;31mTypeError\u001b[0m: 'NoneType' object is not iterable"
       ]
      }
     ], 
     "prompt_number": 25
    }
   ]
  }
 ]
}