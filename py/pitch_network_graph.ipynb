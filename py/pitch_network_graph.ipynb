{
 "metadata": {
  "name": "pitch_network_graph"
 }, 
 "nbformat": 2, 
 "worksheets": [
  {
   "cells": [
    {
     "cell_type": "markdown", 
     "source": [
      "# Pitch Network Graph"
     ]
    }, 
    {
     "cell_type": "code", 
     "collapsed": false, 
     "input": [
      "import os", 
      "os.environ.setdefault('DJANGO_SETTINGS_MODULE', 'tune_viz.settings')", 
      "", 
      "from tune_viz.models import *", 
      "import math, music21, pygraphviz as pgv"
     ], 
     "language": "python", 
     "outputs": [
      {
       "output_type": "stream", 
       "stream": "stderr", 
       "text": [
        "music21: Certain music21 functions might need the optional package PIL; if you run into errors, install it by following the instructions at http://mit.edu/music21/doc/html/installAdditional.html"
       ]
      }
     ], 
     "prompt_number": 2
    }, 
    {
     "cell_type": "code", 
     "collapsed": false, 
     "input": [
      "tunes = Tune.objects.filter(rhythm='jig', key__accidentals='s', key__number_of_accidentals=2)", 
      "print(tunes.count())"
     ], 
     "language": "python", 
     "outputs": [
      {
       "output_type": "stream", 
       "stream": "stdout", 
       "text": [
        "1026"
       ]
      }
     ], 
     "prompt_number": 3
    }, 
    {
     "cell_type": "markdown", 
     "source": [
      "## Function to iterate over bigrams in a sequence"
     ]
    }, 
    {
     "cell_type": "code", 
     "collapsed": true, 
     "input": [
      "def iter_bigrams(iterable):", 
      "    i = iter(iterable)", 
      "    prev = None", 
      "    current = None", 
      "    try:", 
      "        current = i.next()", 
      "        while True:", 
      "            prev = current", 
      "            current = i.next()", 
      "            yield (prev, current)", 
      "    except StopIteration:", 
      "        current = None"
     ], 
     "language": "python", 
     "outputs": [], 
     "prompt_number": 4
    }, 
    {
     "cell_type": "code", 
     "collapsed": false, 
     "input": [
      "def is_single_note(item):", 
      "    key = item[0]", 
      "    return ((isinstance(key, list) or isinstance(key, tuple)) and len(key) is 1)", 
      "", 
      "def is_pair(item):", 
      "    return (not is_single_note(item))", 
      "", 
      "def create_key(note):", 
      "    if note.isRest:", 
      "        return (note.fullName, -1, note.duration.quarterLength)", 
      "    else:", 
      "        return (note.nameWithOctave, note.frequency, note.duration.quarterLength)"
     ], 
     "language": "python", 
     "outputs": [], 
     "prompt_number": 53
    }, 
    {
     "cell_type": "code", 
     "collapsed": false, 
     "input": [
      "notes = {}", 
      "bigrams = {}", 
      "", 
      "for tune in tunes.values_list('raw_abc', flat=True):", 
      "    try:", 
      "        score = music21.converter.parseData(tune, format='abc')", 
      "        ", 
      "        for note in score.flat.notesAndRests:", 
      "            key = create_key(note)", 
      "            notes[key] = notes.get(key, 0) + 1", 
      "            ", 
      "        for gram in iter_bigrams(score.flat.notesAndRests):", 
      "            pair = (create_key(gram[0]), create_key(gram[1]))", 
      "            bigrams[pair] = bigrams.get(pair, 0) + 1", 
      "    except:", 
      "        pass", 
      "    ", 
      "total_notes = sum(notes.values())", 
      "total_pairs = sum(bigrams.values())", 
      "", 
      "for note, freq in notes.iteritems():", 
      "    notes[note] = float(freq) / total_notes", 
      "    ", 
      "for pair, freq in bigrams.iteritems():", 
      "    bigrams[pair] = (float(freq) / total_pairs) / float(notes[pair[0]])"
     ], 
     "language": "python", 
     "outputs": [], 
     "prompt_number": 60
    }, 
    {
     "cell_type": "code", 
     "collapsed": false, 
     "input": [
      "print('Distinct notes: {}'.format(len(notes)))", 
      "print('Notes: {}'.format(sum(notes.values())))", 
      "print('Highest Probability: {}'.format(max(bigrams.values())))"
     ], 
     "language": "python", 
     "outputs": [
      {
       "output_type": "stream", 
       "stream": "stdout", 
       "text": [
        "Distinct notes: 181", 
        "Notes: 1.0", 
        "Highest Probability: 1.01797216983"
       ]
      }
     ], 
     "prompt_number": 61
    }, 
    {
     "cell_type": "code", 
     "collapsed": true, 
     "input": [
      "pitch_graph = pgv.AGraph(strict=False, directed=True)", 
      "", 
      "for n in notes.iterkeys():", 
      "    try:", 
      "        p = music21.pitch.Pitch(n[0])", 
      "        theta = math.radians(float(p.pitchClass) * (360.0 / 12.0))", 
      "        x = math.cos(theta) * p.octave * 10", 
      "        y = math.sin(theta) * p.octave * 10", 
      "        pitch_graph.add_node(n[0], pos=(x, y))", 
      "    except:", 
      "        pass", 
      "", 
      "for gram, weight in bigrams.iteritems():", 
      "    pitch_graph.add_edge(gram[0], gram[1], label=weight)", 
      "    ", 
      "pitch_graph.write('jigs.dot')"
     ], 
     "language": "python", 
     "outputs": [], 
     "prompt_number": 41
    }, 
    {
     "cell_type": "code", 
     "collapsed": false, 
     "input": [
      "forward = {}", 
      "reverse = {}", 
      "fig = plt.figure()", 
      "ax = fig.add_subplot(111, aspect=1)", 
      "upper_ps = max([ps for (name, ps, duration) in notes.iterkeys()])", 
      "upper_duration = max([duration for (name, ps, duration) in notes.iterkeys()])", 
      "", 
      "ellipses = []", 
      "", 
      "def on_mouse_move(event):", 
      "    for e in ellipses:", 
      "        inside, props = e.contains(event)", 
      " ", 
      "        if inside:", 
      "            e.set_facecolor('red')", 
      "            e.radius = 300 * notes[reverse[e]]", 
      "        else:", 
      "            e.set_facecolor('blue')", 
      "            e.radius = 200 * notes[reverse[e]]", 
      "", 
      "    fig.canvas.draw()", 
      "", 
      "fig.canvas.mpl_connect('motion_notify_event', on_mouse_move)", 
      "", 
      "ax.axis([0, upper_duration * 500 + 1, -2, upper_ps + 10])", 
      "", 
      "for (name, ps, duration), freq in notes.iteritems():", 
      "    e = matplotlib.patches.Circle((duration * 500, ps), 200 * freq)", 
      "    forward[(name, ps, duration)] = e", 
      "    reverse[e] = (name, ps, duration)", 
      "    e.set_picker(True)", 
      "    ellipses.append(e)", 
      "    ax.add_patch(e)"
     ], 
     "language": "python", 
     "outputs": [], 
     "prompt_number": 99
    }, 
    {
     "cell_type": "code", 
     "collapsed": false, 
     "input": [
      "fig = plt.figure()", 
      "ax = fig.add_subplot(111)", 
      "ax.axis([-1, 1, -1, 1])", 
      "", 
      "e = matplotlib.patches.Circle((0, 0), 0.5)", 
      "", 
      "def on_move(event):", 
      "    inside, props = e.contains(event)", 
      "", 
      "    if inside:", 
      "        e.set_facecolor('red')", 
      "        e.radius = 1", 
      "    else:", 
      "        e.set_facecolor('blue')", 
      "        e.radius = 0.5", 
      "        ", 
      "    fig.canvas.draw()", 
      "", 
      "fig.canvas.mpl_connect('motion_notify_event', on_move)", 
      "", 
      "ax.add_patch(e)"
     ], 
     "language": "python", 
     "outputs": [
      {
       "output_type": "stream", 
       "stream": "stdout", 
       "text": [
        ""
       ]
      }, 
      {
       "output_type": "pyout", 
       "prompt_number": 88, 
       "text": [
        "<matplotlib.patches.Circle at 0x108a86510>"
       ]
      }
     ], 
     "prompt_number": 88
    }
   ]
  }
 ]
}