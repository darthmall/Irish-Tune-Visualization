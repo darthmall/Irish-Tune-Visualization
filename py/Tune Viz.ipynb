{
 "metadata": {
  "name": "Tune Viz"
 }, 
 "nbformat": 2, 
 "worksheets": [
  {
   "cells": [
    {
     "cell_type": "markdown", 
     "source": [
      "# Tune Visualization Data Sketches"
     ]
    }, 
    {
     "cell_type": "markdown", 
     "source": [
      "## Set up the Django ORM and grab the list of jigs"
     ]
    }, 
    {
     "cell_type": "code", 
     "collapsed": false, 
     "input": [
      "import os", 
      "os.environ.setdefault('DJANGO_SETTINGS_MODULE', 'tune_viz.settings')", 
      "", 
      "from tune_viz.models import *", 
      "import music21"
     ], 
     "language": "python", 
     "outputs": [
      {
       "output_type": "stream", 
       "stream": "stderr", 
       "text": [
        "music21: Certain music21 functions might need the optional package PIL; if you run into errors, install it by following the instructions at http://mit.edu/music21/doc/html/installAdditional.html"
       ]
      }
     ], 
     "prompt_number": 1
    }, 
    {
     "cell_type": "code", 
     "collapsed": true, 
     "input": [
      "jigs = Tune.objects.filter(rhythm='jig')", 
      "jig_count = jigs.count()"
     ], 
     "language": "python", 
     "outputs": [], 
     "prompt_number": 5
    }, 
    {
     "cell_type": "code", 
     "collapsed": true, 
     "input": [
      "scores = []", 
      "for i, j in enumerate(jigs):", 
      "    try:", 
      "        scores.append(music21.converter.parseData(j.raw_abc, format='abc'))", 
      "", 
      "        try:", 
      "            print(u'{: >7,d} / {: <7,d} {}'.format(i, jig_count, j.title))", 
      "        except:", 
      "            print('{: >7,d} / {: <7,d}'.format(i, jig_count))", 
      "    except:", 
      "        print(u'{: >7,d} / {: <7,d} Error'.format(i, jig_count))"
     ], 
     "language": "python", 
     "outputs": []
    }, 
    {
     "cell_type": "markdown", 
     "source": [
      "## jSymbolic Features List"
     ]
    }, 
    {
     "cell_type": "code", 
     "collapsed": true, 
     "input": [
      ">>> fs = music21.features.jSymbolic.extractorsById", 
      ">>> for k in fs:", 
      "...     for i in range(len(fs[k])):", 
      "...       if fs[k][i] is not None:", 
      "...         n = fs[k][i].__name__", 
      "...         if fs[k][i] not in music21.features.jSymbolic.featureExtractors:", 
      "...            n += \" (not implemented)\"", 
      "...         print k, i, n"
     ], 
     "language": "python", 
     "outputs": [
      {
       "output_type": "stream", 
       "stream": "stdout", 
       "text": [
        "D 1 OverallDynamicRangeFeature (not implemented)", 
        "D 2 VariationOfDynamicsFeature (not implemented)", 
        "D 3 VariationOfDynamicsInEachVoiceFeature (not implemented)", 
        "D 4 AverageNoteToNoteDynamicsChangeFeature (not implemented)", 
        "I 1 PitchedInstrumentsPresentFeature", 
        "I 2 UnpitchedInstrumentsPresentFeature (not implemented)", 
        "I 3 NotePrevalenceOfPitchedInstrumentsFeature", 
        "I 4 NotePrevalenceOfUnpitchedInstrumentsFeature (not implemented)", 
        "I 5 TimePrevalenceOfPitchedInstrumentsFeature (not implemented)", 
        "I 6 VariabilityOfNotePrevalenceOfPitchedInstrumentsFeature", 
        "I 7 VariabilityOfNotePrevalenceOfUnpitchedInstrumentsFeature (not implemented)", 
        "I 8 NumberOfPitchedInstrumentsFeature", 
        "I 9 NumberOfUnpitchedInstrumentsFeature (not implemented)", 
        "I 10 PercussionPrevalenceFeature (not implemented)", 
        "I 11 StringKeyboardFractionFeature", 
        "I 12 AcousticGuitarFractionFeature", 
        "I 13 ElectricGuitarFractionFeature", 
        "I 14 ViolinFractionFeature", 
        "I 15 SaxophoneFractionFeature", 
        "I 16 BrassFractionFeature", 
        "I 17 WoodwindsFractionFeature", 
        "I 18 OrchestralStringsFractionFeature", 
        "I 19 StringEnsembleFractionFeature", 
        "I 20 ElectricInstrumentFractionFeature", 
        "M 1 MelodicIntervalHistogramFeature", 
        "M 2 AverageMelodicIntervalFeature", 
        "M 3 MostCommonMelodicIntervalFeature", 
        "M 4 DistanceBetweenMostCommonMelodicIntervalsFeature", 
        "M 5 MostCommonMelodicIntervalPrevalenceFeature", 
        "M 6 RelativeStrengthOfMostCommonIntervalsFeature", 
        "M 7 NumberOfCommonMelodicIntervalsFeature", 
        "M 8 AmountOfArpeggiationFeature", 
        "M 9 RepeatedNotesFeature", 
        "M 10 ChromaticMotionFeature", 
        "M 11 StepwiseMotionFeature", 
        "M 12 MelodicThirdsFeature", 
        "M 13 MelodicFifthsFeature", 
        "M 14 MelodicTritonesFeature", 
        "M 15 MelodicOctavesFeature", 
        "M 17 DirectionOfMotionFeature", 
        "M 18 DurationOfMelodicArcsFeature", 
        "M 19 SizeOfMelodicArcsFeature", 
        "P 1 MostCommonPitchPrevalenceFeature", 
        "P 2 MostCommonPitchClassPrevalenceFeature", 
        "P 3 RelativeStrengthOfTopPitchesFeature", 
        "P 4 RelativeStrengthOfTopPitchClassesFeature", 
        "P 5 IntervalBetweenStrongestPitchesFeature", 
        "P 6 IntervalBetweenStrongestPitchClassesFeature", 
        "P 7 NumberOfCommonPitchesFeature", 
        "P 8 PitchVarietyFeature", 
        "P 9 PitchClassVarietyFeature", 
        "P 10 RangeFeature", 
        "P 11 MostCommonPitchFeature", 
        "P 12 PrimaryRegisterFeature", 
        "P 13 ImportanceOfBassRegisterFeature", 
        "P 14 ImportanceOfMiddleRegisterFeature", 
        "P 15 ImportanceOfHighRegisterFeature", 
        "P 16 MostCommonPitchClassFeature", 
        "P 17 DominantSpreadFeature (not implemented)", 
        "P 18 StrongTonalCentresFeature (not implemented)", 
        "P 19 BasicPitchHistogramFeature", 
        "P 20 PitchClassDistributionFeature", 
        "P 21 FifthsPitchHistogramFeature", 
        "P 22 QualityFeature", 
        "P 23 GlissandoPrevalenceFeature (not implemented)", 
        "P 24 AverageRangeOfGlissandosFeature (not implemented)", 
        "P 25 VibratoPrevalenceFeature (not implemented)", 
        "R 1 StrongestRhythmicPulseFeature (not implemented)", 
        "R 2 SecondStrongestRhythmicPulseFeature (not implemented)", 
        "R 3 HarmonicityOfTwoStrongestRhythmicPulsesFeature (not implemented)", 
        "R 4 StrengthOfStrongestRhythmicPulseFeature (not implemented)", 
        "R 5 StrengthOfSecondStrongestRhythmicPulseFeature (not implemented)", 
        "R 6 StrengthRatioOfTwoStrongestRhythmicPulsesFeature (not implemented)", 
        "R 7 CombinedStrengthOfTwoStrongestRhythmicPulsesFeature (not implemented)", 
        "R 8 NumberOfStrongPulsesFeature (not implemented)", 
        "R 9 NumberOfModeratePulsesFeature (not implemented)", 
        "R 10 NumberOfRelativelyStrongPulsesFeature (not implemented)", 
        "R 11 RhythmicLoosenessFeature (not implemented)", 
        "R 12 PolyrhythmsFeature (not implemented)", 
        "R 13 RhythmicVariabilityFeature (not implemented)", 
        "R 14 BeatHistogramFeature (not implemented)", 
        "R 15 NoteDensityFeature", 
        "R 17 AverageNoteDurationFeature", 
        "R 18 VariabilityOfNoteDurationFeature (not implemented)", 
        "R 19 MaximumNoteDurationFeature", 
        "R 20 MinimumNoteDurationFeature", 
        "R 21 StaccatoIncidenceFeature", 
        "R 22 AverageTimeBetweenAttacksFeature", 
        "R 23 VariabilityOfTimeBetweenAttacksFeature", 
        "R 24 AverageTimeBetweenAttacksForEachVoiceFeature", 
        "R 25 AverageVariabilityOfTimeBetweenAttacksForEachVoiceFeature", 
        "R 30 InitialTempoFeature", 
        "R 31 InitialTimeSignatureFeature", 
        "R 32 CompoundOrSimpleMeterFeature", 
        "R 33 TripleMeterFeature", 
        "R 34 QuintupleMeterFeature", 
        "R 35 ChangesOfMeterFeature", 
        "T 1 MaximumNumberOfIndependentVoicesFeature", 
        "T 2 AverageNumberOfIndependentVoicesFeature", 
        "T 3 VariabilityOfNumberOfIndependentVoicesFeature", 
        "T 4 VoiceEqualityNumberOfNotesFeature (not implemented)", 
        "T 5 VoiceEqualityNoteDurationFeature (not implemented)", 
        "T 6 VoiceEqualityDynamicsFeature (not implemented)", 
        "T 7 VoiceEqualityMelodicLeapsFeature (not implemented)", 
        "T 8 VoiceEqualityRangeFeature (not implemented)", 
        "T 9 ImportanceOfLoudestVoiceFeature (not implemented)", 
        "T 10 RelativeRangeOfLoudestVoiceFeature (not implemented)", 
        "T 12 RangeOfHighestLineFeature (not implemented)", 
        "T 13 RelativeNoteDensityOfHighestLineFeature (not implemented)", 
        "T 15 MelodicIntervalsInLowestLineFeature (not implemented)", 
        "T 20 VoiceSeparationFeature (not implemented)"
       ]
      }
     ], 
     "prompt_number": 3
    }, 
    {
     "cell_type": "markdown", 
     "source": [
      "## Ambitus Analysis"
     ]
    }, 
    {
     "cell_type": "code", 
     "collapsed": true, 
     "input": [
      "p = music21.analysis.discrete.Ambitus()", 
      "x = []", 
      "y = []", 
      "", 
      "for s in scores:", 
      "    lower, upper = p.getPitchSpan(s)", 
      "", 
      "    x.append(lower)", 
      "    y.append(upper)"
     ], 
     "language": "python", 
     "outputs": [], 
     "prompt_number": 63
    }, 
    {
     "cell_type": "code", 
     "collapsed": false, 
     "input": [
      "plot(x, y, 'o')"
     ], 
     "language": "python", 
     "outputs": [
      {
       "output_type": "pyout", 
       "prompt_number": 64, 
       "text": [
        "[<matplotlib.lines.Line2D at 0x12f570390>]"
       ]
      }
     ], 
     "prompt_number": 64
    }, 
    {
     "cell_type": "code", 
     "collapsed": false, 
     "input": [
      "idx = np.arange(len(x))", 
      "", 
      "pitch_range = figure()", 
      "ax = pitch_range.add_subplot(111)", 
      "ax.bar(idx, np.array(y) - np.array(x), bottom=x, linewidth=0)"
     ], 
     "language": "python", 
     "outputs": [
      {
       "output_type": "pyout", 
       "prompt_number": 66, 
       "text": [
        "<Container object of 1025 artists>"
       ]
      }
     ], 
     "prompt_number": 66
    }, 
    {
     "cell_type": "markdown", 
     "source": [
      "## Melodic Arc Analysis"
     ]
    }, 
    {
     "cell_type": "code", 
     "collapsed": false, 
     "input": [
      "jigs = Tune.objects.filter(rhythm='jig', melodicDirection__isnull=False)", 
      "reels = Tune.objects.filter(rhythm='reel', melodicDirection__isnull=False)", 
      "", 
      "plt.figure(1)", 
      "", 
      "plt.subplot(211)", 
      "plt.plot(jigs.values_list('melodicDirection', flat=True),", 
      "     jigs.values_list('melodicArcDuration', flat=True),", 
      "     'bo')", 
      "plt.axis([0.25, 0.7, 0, 140])", 
      "plt.title('Jigs ({:,})'.format(jigs.count()))", 
      "", 
      "plt.subplot(212)", 
      "plt.plot(reels.values_list('melodicDirection', flat=True),", 
      "         reels.values_list('melodicArcDuration', flat=True),", 
      "         'ro')", 
      "plt.axis([0.25, 0.7, 0, 140])", 
      "plt.title('Reels ({:,})'.format(reels.count()))"
     ], 
     "language": "python", 
     "outputs": [
      {
       "output_type": "pyout", 
       "prompt_number": 19, 
       "text": [
        "<matplotlib.text.Text at 0x10b7f29d0>"
       ]
      }
     ], 
     "prompt_number": 19
    }, 
    {
     "cell_type": "markdown", 
     "source": [
      "## Pitch Analysis"
     ]
    }, 
    {
     "cell_type": "code", 
     "collapsed": true, 
     "input": [
      "jigs = Tune.objects.filter(rhythm='jig')[:500]", 
      "scores = []", 
      "", 
      "for jig in jigs:", 
      "    try:", 
      "        scores.append(music21.converter.parseData(jig.raw_abc, format='abc'))", 
      "    except:", 
      "        pass"
     ], 
     "language": "python", 
     "outputs": [], 
     "prompt_number": 3
    }, 
    {
     "cell_type": "code", 
     "collapsed": true, 
     "input": [
      "pitch = []", 
      "pitch_class = []", 
      "", 
      "p8 = music21.features.jSymbolic.getExtractorByTypeAndNumber('P', 8)", 
      "p9 = music21.features.jSymbolic.getExtractorByTypeAndNumber('P', 9)", 
      "", 
      "for score in scores:", 
      "    try:", 
      "        pitch_feature = p8(score).extract()", 
      "        pitch_class_feature = p9(score).extract()", 
      "    except:", 
      "        pass", 
      "    finally:", 
      "        pitch += pitch_feature.vector", 
      "        pitch_class += pitch_class_feature.vector"
     ], 
     "language": "python", 
     "outputs": [], 
     "prompt_number": 23
    }, 
    {
     "cell_type": "code", 
     "collapsed": false, 
     "input": [
      "print len(pitch), len(pitch_class)"
     ], 
     "language": "python", 
     "outputs": [
      {
       "output_type": "stream", 
       "stream": "stdout", 
       "text": [
        "499 499"
       ]
      }
     ], 
     "prompt_number": 28
    }, 
    {
     "cell_type": "code", 
     "collapsed": false, 
     "input": [
      "plot(pitch_class, pitch, 'o')", 
      "plt.axis([0, 13, 0, 23])", 
      "plt.xlabel('Pitch Class Variety')", 
      "plt.ylabel('Pitch Variety')", 
      "plt.title('Pitch vs. Pitch Class Variety for 500 Jigs')"
     ], 
     "language": "python", 
     "outputs": [
      {
       "output_type": "pyout", 
       "prompt_number": 32, 
       "text": [
        "<matplotlib.text.Text at 0x118cfca90>"
       ]
      }
     ], 
     "prompt_number": 32
    }, 
    {
     "cell_type": "code", 
     "collapsed": true, 
     "input": [
      "pitch_variety = {}", 
      "", 
      "p8 = music21.features.jSymbolic.getExtractorByTypeAndNumber('P', 8)", 
      "ks = music21.analysis.discrete.KrumhanslSchmuckler()", 
      "", 
      "for score in scores:", 
      "    try:", 
      "        k = str(ks.getSolution(score))", 
      "        v = p8(score).extract()", 
      "    except:", 
      "        pass", 
      "    finally:", 
      "        if k not in pitch_variety:", 
      "            pitch_variety[k] = []", 
      "", 
      "        pitch_variety[k] += v.vector"
     ], 
     "language": "python", 
     "outputs": [], 
     "prompt_number": 4
    }, 
    {
     "cell_type": "code", 
     "collapsed": false, 
     "input": [
      "x = np.zeros(21)", 
      "y = np.arange(21)", 
      "print x, len(x), y, len(y)"
     ], 
     "language": "python", 
     "outputs": [
      {
       "output_type": "stream", 
       "stream": "stdout", 
       "text": [
        "[ 0.  0.  0.  0.  0.  0.  0.  0.  0.  0.  0.  0.  0.  0.  0.  0.  0.  0.", 
        "  0.  0.  0.] 21 [ 0  1  2  3  4  5  6  7  8  9 10 11 12 13 14 15 16 17 18 19 20] 21"
       ]
      }
     ], 
     "prompt_number": 29
    }, 
    {
     "cell_type": "code", 
     "collapsed": true, 
     "input": [
      "from itertools import chain", 
      "from matplotlib import gridspec", 
      "", 
      "upper = max(chain(*pitch_variety.values()))", 
      "", 
      "f = plt.figure()", 
      "f.suptitle(\"Pitch Variety by Key\")", 
      "", 
      "gs = gridspec.GridSpec(len(pitch_variety) / 2, 2, wspace=0.2, hspace=1.0)", 
      "", 
      "for i, (key, varieties) in enumerate(pitch_variety.iteritems()):", 
      "    ax = f.add_subplot(gs[i / 2, i % 2], title=key)", 
      "    ax.axis([0, upper + 2, 0, 30])", 
      "", 
      "    y = np.zeros(upper + 1)", 
      "", 
      "    for variety in varieties:", 
      "        y[variety] += 1", 
      "", 
      "    x = np.arange(upper + 1)", 
      "    ax.bar(x, y)"
     ], 
     "language": "python", 
     "outputs": [], 
     "prompt_number": 48
    }, 
    {
     "cell_type": "markdown", 
     "source": [
      "### Compare pitch variety between jigs and polkas"
     ]
    }, 
    {
     "cell_type": "code", 
     "collapsed": false, 
     "input": [
      "from django.db.models import Max", 
      "from matplotlib.gridspec import GridSpec", 
      "", 
      "tunes = Tune.objects.filter(pitch_variety__isnull=False)", 
      "upper = tunes.aggregate(Max('pitch_variety'))['pitch_variety__max']", 
      "", 
      "x = np.arange(upper + 1)", 
      "y = np.zeros(upper + 1)", 
      "", 
      "for polka in tunes.filter(rhythm='polka').values_list('pitch_variety', flat=True):", 
      "    y[polka] += 1", 
      "", 
      "sigma = np.mean(tunes.filter(rhythm='polka').values_list('pitch_variety', flat=True))", 
      "", 
      "gs = GridSpec(1, 3)", 
      "pitch_fig = figure()", 
      "pitch_fig.suptitle('Pitch Variety by Tune Type')", 
      "", 
      "ax = pitch_fig.add_subplot(gs[0, 0], title='Polkas')", 
      "ax.bar(x, y)", 
      "ax.text(12, 120, '$\\sigma = {:.3f}$'.format(sigma))", 
      "", 
      "y = np.zeros(upper + 1)", 
      "", 
      "for jig in tunes.filter(rhythm='jig').values_list('pitch_variety', flat=True):", 
      "    y[jig] += 1", 
      "", 
      "sigma = np.mean(tunes.filter(rhythm='jig').values_list('pitch_variety', flat=True))", 
      "", 
      "ax = pitch_fig.add_subplot(gs[0, 1], title='Jigs')", 
      "ax.bar(x, y)", 
      "ax.text(14, 400, '$\\sigma = {:.3f}$'.format(sigma))", 
      "", 
      "y = np.zeros(upper + 1)", 
      "for reel in tunes.filter(rhythm='reel').values_list('pitch_variety', flat=True):", 
      "    y[reel] += 1", 
      "", 
      "sigma = np.mean(tunes.filter(rhythm='reel').values_list('pitch_variety', flat=True))", 
      "", 
      "ax = pitch_fig.add_subplot(gs[0, 2], title='Reels')", 
      "ax.bar(x, y)", 
      "ax.text(15, 600, '$\\sigma = {:.3f}$'.format(sigma))"
     ], 
     "language": "python", 
     "outputs": [
      {
       "output_type": "pyout", 
       "prompt_number": 13, 
       "text": [
        "<matplotlib.text.Text at 0x10e424190>"
       ]
      }
     ], 
     "prompt_number": 13
    }, 
    {
     "cell_type": "code", 
     "collapsed": false, 
     "input": [
      "mid = music21.analysis.discrete.MelodicIntervalDiversity()", 
      "ks = music21.analysis.discrete.KrumhanslSchmuckler()", 
      "", 
      "for tune in Tune.objects.filter(rhythm='jig')[:10]:", 
      "    print tune.title", 
      "    score = music21.converter.parseData(tune.raw_abc, format='abc')", 
      "    print ks.getSolution(score)", 
      "    print ks.solutionLegend()", 
      "    print mid.countMelodicIntervals(score)", 
      "    print"
     ], 
     "language": "python", 
     "outputs": [
      {
       "output_type": "stream", 
       "stream": "stdout", 
       "text": [
        "James Gannon's", 
        "D major"
       ]
      }, 
      {
       "output_type": "stream", 
       "stream": "stdout", 
       "text": [
        "", 
        "[['Major', [('C-', '#ff905c'), ('C', '#ff816b'), ('C#', '#f0727a'), ('D-', '#ffe643'), ('D', '#ffd752'), ('', '#ffffff'), ('E-', '#fdff8b'), ('E', '#eeff9a'), ('F', '#c8ffff'), ('F#', '#b9f0ff'), ('G-', '#a5d6f0'), ('G', '#96c7ff'), ('', '#ffffff'), ('A-', '#caa9f0'), ('A', '#bb9aff'), ('', '#ffffff'), ('B-', '#ffc4f0'), ('B', '#ffb5ff')]], ['Minor', [('', '#ffffff'), ('c', '#9b1d07'), ('c#', '#8c0e16'), ('', '#ffffff'), ('d', '#9b7300'), ('d#', '#8c640f'), ('e-', '#99aa27'), ('e', '#8a9b36'), ('f', '#649b9b'), ('f#', '#558caa'), ('', '#ffffff'), ('g', '#32639b'), ('g#', '#2354aa'), ('a-', '#66458c'), ('a', '#57369b'), ('a#', '#4827aa'), ('b-', '#aa608c'), ('b', '#9b519b')]]]", 
        "{'M3': [<music21.interval.Interval M3>, 12], 'P4': [<music21.interval.Interval P4>, 4], 'P5': [<music21.interval.Interval P5>, 1], 'M2': [<music21.interval.Interval M2>, 29], 'm3': [<music21.interval.Interval m3>, 25], 'm2': [<music21.interval.Interval m2>, 11]}"
       ]
      }, 
      {
       "ename": "NameError", 
       "evalue": "global name 'countMelodicIntervals' is not defined", 
       "output_type": "pyerr", 
       "traceback": [
        "\u001b[0;31m---------------------------------------------------------------------------\u001b[0m\n\u001b[0;31mNameError\u001b[0m                                 Traceback (most recent call last)", 
        "\u001b[0;32m/Users/esheehan/Projects/tune_viz/py/<ipython-input-3-56b14ada6e68>\u001b[0m in \u001b[0;36m<module>\u001b[0;34m()\u001b[0m\n\u001b[1;32m      8\u001b[0m     \u001b[0;32mprint\u001b[0m \u001b[0mks\u001b[0m\u001b[0;34m.\u001b[0m\u001b[0msolutionLegend\u001b[0m\u001b[0;34m(\u001b[0m\u001b[0;34m)\u001b[0m\u001b[0;34m\u001b[0m\u001b[0m\n\u001b[1;32m      9\u001b[0m     \u001b[0;32mprint\u001b[0m \u001b[0mmid\u001b[0m\u001b[0;34m.\u001b[0m\u001b[0mcountMelodicIntervals\u001b[0m\u001b[0;34m(\u001b[0m\u001b[0mscore\u001b[0m\u001b[0;34m)\u001b[0m\u001b[0;34m\u001b[0m\u001b[0m\n\u001b[0;32m---> 10\u001b[0;31m     \u001b[0;32mprint\u001b[0m \u001b[0mmid\u001b[0m\u001b[0;34m.\u001b[0m\u001b[0mgetSolution\u001b[0m\u001b[0;34m(\u001b[0m\u001b[0mscore\u001b[0m\u001b[0;34m)\u001b[0m\u001b[0;34m\u001b[0m\u001b[0m\n\u001b[0m\u001b[1;32m     11\u001b[0m     \u001b[0;32mprint\u001b[0m\u001b[0;34m\u001b[0m\u001b[0m\n", 
        "\u001b[0;32m/Library/Python/2.7/site-packages/music21/analysis/discrete.pyc\u001b[0m in \u001b[0;36mgetSolution\u001b[0;34m(self, sStream)\u001b[0m\n\u001b[1;32m   1212\u001b[0m         '''Solution is the number of unique intervals.\n\u001b[1;32m   1213\u001b[0m         '''\n\u001b[0;32m-> 1214\u001b[0;31m         \u001b[0msolution\u001b[0m\u001b[0;34m,\u001b[0m \u001b[0mcolor\u001b[0m \u001b[0;34m=\u001b[0m \u001b[0mself\u001b[0m\u001b[0;34m.\u001b[0m\u001b[0mprocess\u001b[0m\u001b[0;34m(\u001b[0m\u001b[0msStream\u001b[0m\u001b[0;34m.\u001b[0m\u001b[0mflat\u001b[0m\u001b[0;34m)\u001b[0m\u001b[0;34m\u001b[0m\u001b[0m\n\u001b[0m\u001b[1;32m   1215\u001b[0m         \u001b[0;32mreturn\u001b[0m \u001b[0msolution\u001b[0m\u001b[0;34m\u001b[0m\u001b[0m\n\u001b[1;32m   1216\u001b[0m \u001b[0;34m\u001b[0m\u001b[0m\n", 
        "\u001b[0;32m/Library/Python/2.7/site-packages/music21/analysis/discrete.pyc\u001b[0m in \u001b[0;36mprocess\u001b[0;34m(self, sStream, ignoreDirection)\u001b[0m\n\u001b[1;32m   1205\u001b[0m         \u001b[0mFind\u001b[0m \u001b[0mhow\u001b[0m \u001b[0mmany\u001b[0m \u001b[0munique\u001b[0m \u001b[0mintervals\u001b[0m \u001b[0mare\u001b[0m \u001b[0mused\u001b[0m \u001b[0;32min\u001b[0m \u001b[0mthis\u001b[0m \u001b[0mStream\u001b[0m\u001b[0;34m\u001b[0m\u001b[0m\n\u001b[1;32m   1206\u001b[0m         '''\n\u001b[0;32m-> 1207\u001b[0;31m         \u001b[0muniqueIntervals\u001b[0m \u001b[0;34m=\u001b[0m \u001b[0mcountMelodicIntervals\u001b[0m\u001b[0;34m(\u001b[0m\u001b[0msStream\u001b[0m\u001b[0;34m,\u001b[0m \u001b[0mignoreDirection\u001b[0m\u001b[0;34m)\u001b[0m\u001b[0;34m\u001b[0m\u001b[0m\n\u001b[0m\u001b[1;32m   1208\u001b[0m         \u001b[0;32mreturn\u001b[0m \u001b[0mlen\u001b[0m\u001b[0;34m(\u001b[0m\u001b[0muniqueIntervals\u001b[0m\u001b[0;34m)\u001b[0m\u001b[0;34m,\u001b[0m \u001b[0mself\u001b[0m\u001b[0;34m.\u001b[0m\u001b[0msolutionToColor\u001b[0m\u001b[0;34m(\u001b[0m\u001b[0mlen\u001b[0m\u001b[0;34m(\u001b[0m\u001b[0muniqueIntervals\u001b[0m\u001b[0;34m)\u001b[0m\u001b[0;34m)\u001b[0m\u001b[0;34m\u001b[0m\u001b[0m\n\u001b[1;32m   1209\u001b[0m \u001b[0;34m\u001b[0m\u001b[0m\n", 
        "\u001b[0;31mNameError\u001b[0m: global name 'countMelodicIntervals' is not defined"
       ]
      }, 
      {
       "output_type": "stream", 
       "stream": "stdout", 
       "text": []
      }
     ], 
     "prompt_number": 3
    }, 
    {
     "cell_type": "code", 
     "collapsed": false, 
     "input": [
      "Tune.objects.filter(rhythm='jig', key__accidentals='s', key__number_of_accidentals=2).count()"
     ], 
     "language": "python", 
     "outputs": [
      {
       "output_type": "pyout", 
       "prompt_number": 2, 
       "text": [
        "1026"
       ]
      }
     ], 
     "prompt_number": 2
    }, 
    {
     "cell_type": "code", 
     "collapsed": false, 
     "input": [
      "Tune.objects.filter(rhythm='polka').count()"
     ], 
     "language": "python", 
     "outputs": [
      {
       "output_type": "pyout", 
       "prompt_number": 3, 
       "text": [
        "691"
       ]
      }
     ], 
     "prompt_number": 3
    }, 
    {
     "cell_type": "code", 
     "collapsed": true, 
     "input": [
      "def iter_bigrams(iterable):", 
      "    i = iter(iterable)", 
      "    prev = None", 
      "    current = None", 
      "    try:", 
      "        current = i.next()", 
      "        while True:", 
      "            prev = current", 
      "            current = i.next()", 
      "            yield (prev, current)", 
      "    except StopIteration:", 
      "        current = None    "
     ], 
     "language": "python", 
     "outputs": [], 
     "prompt_number": 4
    }, 
    {
     "cell_type": "code", 
     "collapsed": false, 
     "input": [
      "tunes = Tune.objects.filter(rhythm='jig', key__accidentals='s', key__number_of_accidentals=2)", 
      "total = tunes.count()", 
      "total_measures = 0", 
      "bigrams = {}", 
      "measures = {}", 
      "", 
      "for i, tune in enumerate(tunes):", 
      "    measure_list = map(lambda x: x.strip('|:'), tune.notation.split('|'))", 
      "    total_measures += len(measure_list)", 
      "    ", 
      "    for m in measure_list:", 
      "        measures[m] = measures.get(m, 0) + 1", 
      "        ", 
      "    for gram in iter_bigrams(measure_list):", 
      "        prior, measure = gram", 
      "        ", 
      "        bigrams[gram] = bigrams.get(gram, 0) + 1", 
      "        ", 
      "print('Total tunes: {}'.format(total))", 
      "print('Total measures: {} ({})'.format(total_measures, sum(measures.values())))", 
      "print('Max: {}'.format(max(bigrams.values())))", 
      "print('Total bigrams: {}'.format(len(bigrams)))"
     ], 
     "language": "python", 
     "outputs": [
      {
       "output_type": "stream", 
       "stream": "stdout", 
       "text": [
        "Total tunes: 1026", 
        "Total measures: 25754 (25754)", 
        "Max: 646", 
        "Total bigrams: 20347"
       ]
      }
     ], 
     "prompt_number": 5
    }, 
    {
     "cell_type": "code", 
     "collapsed": false, 
     "input": [
      "total_bigrams = sum(bigrams.values())", 
      "measures_p = {}", 
      "bigrams_p = {}", 
      "", 
      "for k, v in measures.iteritems():", 
      "    measures_p[k] = float(v) / total_measures", 
      "", 
      "print('Total Measures P: {}'.format(sum(measures_p.values())))", 
      "print('Max P: {}'.format(max(measures_p.values())))", 
      "", 
      "for gram, freq in bigrams.iteritems():", 
      "    bigrams_p[gram] = (float(freq) / total_bigrams) / measures_p[gram[0]]", 
      "    ", 
      "print('Total Bigrams P: {}'.format(sum(bigrams_p.values())))", 
      "print('Max P: {}'.format(max(bigrams_p.values())))"
     ], 
     "language": "python", 
     "outputs": [
      {
       "output_type": "stream", 
       "stream": "stdout", 
       "text": [
        "Total Measures P: 1.0", 
        "Max P: 0.125766871166", 
        "Total Bigrams P: 14545.612618"
       ]
      }, 
      {
       "output_type": "stream", 
       "stream": "stdout", 
       "text": [
        "", 
        "Max P: 1.26238909857"
       ]
      }
     ], 
     "prompt_number": 11
    }, 
    {
     "cell_type": "code", 
     "collapsed": true, 
     "input": [
      "import pygraphviz as pgv", 
      "", 
      "measure_graph = pgv.AGraph(strict=False, directed=True)", 
      "for gram, weight in bigrams.iteritems():", 
      "    try:", 
      "        measure_graph.add_edge(gram[0], gram[1], weight=weight)", 
      "    except TypeError:", 
      "        print gram", 
      "        raise", 
      "", 
      "measure_graph.write('jigs.dot')"
     ], 
     "language": "python", 
     "outputs": [], 
     "prompt_number": 15
    }, 
    {
     "cell_type": "code", 
     "collapsed": false, 
     "input": [
      "notes = {}", 
      "note_bigrams = {}", 
      "", 
      "for tune in tunes:", 
      "    try:", 
      "        score = music21.converter.parseData(tune.raw_abc, format='abc')", 
      "        ", 
      "        for n in score.flat.notesAndRests:", 
      "            notes[n.pitch] = notes.get(n.pitch, 0) + 1", 
      "        ", 
      "        for gram in iter_bigrams(score.flat.notesAndRests):", 
      "            pair = (gram[0].pitch, gram[1].pitch)", 
      "            note_bigrams[pair] = note_bigrams.get(pair, 0) + 1", 
      "    except:", 
      "        pass", 
      "", 
      "print('Distinct notes: {}'.format(len(notes)))", 
      "print('Total notes: {}'.format(sum(notes.values())))", 
      "print('Distinct pairs: {}'.format(len(note_bigrams)))", 
      "print('Total Pairs: {}'.format(sum(note_bigrams.values())))"
     ], 
     "language": "python", 
     "outputs": [], 
     "prompt_number": "*"
    }, 
    {
     "cell_type": "code", 
     "collapsed": true, 
     "input": [
      "note_graph = pgv.AGraph(strict=False, directed=True)", 
      "", 
      "for n in notes.iterkeys():", 
      "    note_graph.add_node(n.", 
      "for gram, weight in note_bigrams.iteritems():", 
      "    note_graph.add_edge(gram[0], gram[1], weight=weight)", 
      "    ", 
      "note_graph.write('jigs_note_graph.dot')"
     ], 
     "language": "python", 
     "outputs": [], 
     "prompt_number": 24
    }
   ]
  }
 ]
}