{
 "metadata": {
  "name": "Generative"
 }, 
 "nbformat": 2, 
 "worksheets": [
  {
   "cells": [
    {
     "cell_type": "code", 
     "collapsed": false, 
     "input": [
      "import os", 
      "os.environ.setdefault('DJANGO_SETTINGS_MODULE', 'tune_viz.settings')", 
      "", 
      "from tune_viz.models import *", 
      "from music21 import *", 
      "import itertools, math, pygraphviz as pgv, sys"
     ], 
     "language": "python", 
     "outputs": [], 
     "prompt_number": 44
    }, 
    {
     "cell_type": "code", 
     "collapsed": false, 
     "input": [
      "oneills = []", 
      "", 
      "for tune in corpus.getComposer('oneills1850')[:1]:", 
      "    try:", 
      "        oneills.append(converter.parse(tune))", 
      "    except:", 
      "        print sys.exc_info()[0]", 
      "    oneills", 
      "print oneills"
     ], 
     "language": "python", 
     "outputs": [
      {
       "output_type": "stream", 
       "stream": "stdout", 
       "text": [
        "[<music21.stream.Opus 4401755408>]"
       ]
      }
     ], 
     "prompt_number": 45
    }, 
    {
     "cell_type": "code", 
     "collapsed": false, 
     "input": [
      "def intervals(score):", 
      "    note_iter = iter(score.flat.notes)", 
      "    first = None", 
      "    second = note_iter.next()", 
      "    try:", 
      "        while True:", 
      "            first = second", 
      "            second = note_iter.next()", 
      "            yield interval.Interval(first, second)", 
      "    except StopIteration:", 
      "        pass", 
      "    ", 
      "melodic_ints = []", 
      "for step in intervals(oneills[0][0]):", 
      "    melodic_ints.append(round(step.cents / 100))", 
      "", 
      "direction = features.jSymbolic.DirectionOfMotionFeature(oneills[0][0]).extract().vector[0]", 
      "", 
      "print len(melodic_ints)", 
      "print melodic_ints", 
      "print direction"
     ], 
     "language": "python", 
     "outputs": [
      {
       "output_type": "stream", 
       "stream": "stdout", 
       "text": [
        "134", 
        "[2.0, 2.0, 1.0, 2.0, 2.0, 2.0, 1.0, -5.0, -3.0, 3.0, -2.0, -1.0, -4.0, -3.0, 2.0, -2.0, -2.0, 2.0, 2.0, 1.0, 2.0, 2.0, 1.0, 2.0, 2.0, 2.0, -4.0, 4.0, 1.0, 2.0, 2.0, -4.0, 4.0, -2.0, -2.0, -1.0, -4.0, 0.0, 0.0, 2.0, -2.0, -2.0, -1.0, 0.0, -2.0, -2.0, 2.0, -2.0, -1.0, -4.0, 5.0, 2.0, 2.0, 1.0, 2.0, 2.0, -2.0, -2.0, -3.0, -2.0, 0.0, 0.0, 0.0, 4.0, 1.0, 2.0, -2.0, -3.0, 2.0, -4.0, 0.0, 0.0, 0.0, 4.0, 3.0, 5.0, -1.0, -4.0, -2.0, 2.0, 5.0, 0.0, 0.0, 2.0, 2.0, -2.0, -2.0, -1.0, 1.0, -5.0, 0.0, -2.0, -1.0, -2.0, -2.0, -1.0, -4.0, 0.0, 5.0, 2.0, 2.0, 1.0, 2.0, 0.0, 9.0, -4.0, -1.0, -4.0, -2.0, -3.0, -3.0, 1.0, 2.0, 2.0, 1.0, -1.0, -2.0, -2.0, 2.0, -2.0, -1.0, -4.0, 5.0, 2.0, 2.0, 1.0, 2.0, 2.0, -2.0, -2.0, -3.0, -2.0, 0.0, 0.0]", 
        "0.512820512821"
       ]
      }
     ], 
     "prompt_number": 51
    }, 
    {
     "cell_type": "code", 
     "collapsed": false, 
     "input": [
      "from random import choice, random", 
      "", 
      "avg_dur = features.jSymbolic.AverageNoteDurationFeature(oneills[0][0]).extract().vector", 
      "", 
      "generated = [oneills[0][0].flat.notesAndRests[0].ps]", 
      "", 
      "for i in range(len(oneills[0][0].flat.notesAndRests)):", 
      "    delta = abs(choice(melodic_ints))", 
      "    if random() < direction:", 
      "        delta *= -1", 
      "    ", 
      "    generated.append(generated[-1] + delta)", 
      "    ", 
      "print len(generated)", 
      "print generated"
     ], 
     "language": "python", 
     "outputs": [
      {
       "output_type": "stream", 
       "stream": "stdout", 
       "text": [
        "138", 
        "[67.0, 68.0, 70.0, 66.0, 64.0, 62.0, 58.0, 58.0, 54.0, 56.0, 58.0, 53.0, 55.0, 57.0, 62.0, 59.0, 63.0, 60.0, 58.0, 59.0, 57.0, 62.0, 60.0, 56.0, 58.0, 53.0, 55.0, 60.0, 58.0, 57.0, 58.0, 56.0, 54.0, 59.0, 61.0, 62.0, 59.0, 59.0, 60.0, 58.0, 59.0, 57.0, 55.0, 56.0, 58.0, 60.0, 58.0, 60.0, 62.0, 60.0, 59.0, 57.0, 56.0, 58.0, 56.0, 57.0, 59.0, 59.0, 59.0, 60.0, 58.0, 56.0, 57.0, 59.0, 60.0, 58.0, 55.0, 59.0, 56.0, 60.0, 62.0, 61.0, 57.0, 55.0, 53.0, 51.0, 51.0, 49.0, 53.0, 51.0, 48.0, 52.0, 47.0, 45.0, 47.0, 49.0, 47.0, 51.0, 52.0, 54.0, 55.0, 53.0, 55.0, 57.0, 62.0, 67.0, 63.0, 63.0, 65.0, 63.0, 63.0, 61.0, 66.0, 65.0, 63.0, 61.0, 59.0, 61.0, 60.0, 58.0, 58.0, 57.0, 61.0, 59.0, 61.0, 59.0, 57.0, 55.0, 55.0, 57.0, 59.0, 59.0, 59.0, 59.0, 61.0, 59.0, 61.0, 63.0, 61.0, 62.0, 60.0, 58.0, 59.0, 63.0, 65.0, 64.0, 63.0, 63.0]"
       ]
      }
     ], 
     "prompt_number": 52
    }, 
    {
     "cell_type": "code", 
     "collapsed": false, 
     "input": [
      "fig = figure()", 
      "", 
      "ax = fig.add_subplot(111)", 
      "", 
      "min_pitch = 0", 
      "max_pitch = 0", 
      "time = 0", 
      "", 
      "for note in oneills[0][0].flat.notesAndRests:", 
      "    if note.isChord and len(note.pitches) > 0:", 
      "        for p in note.pitches:", 
      "            ax.add_patch(Rectangle((time, p.ps - 0.5), note.quarterLength, 1))", 
      "            max_pitch = max(max_pitch, p.ps)", 
      "    elif note.isNote:", 
      "        ax.add_patch(Rectangle((time, note.ps - 0.5), note.quarterLength, 1))", 
      "        max_pitch = max(max_pitch, note.ps)", 
      "        ", 
      "    time += note.quarterLength", 
      "    ", 
      "ax.axis((0, time, 50, max_pitch + 10))", 
      "ax.plot(generated, 'r')"
     ], 
     "language": "python", 
     "outputs": [
      {
       "output_type": "pyout", 
       "prompt_number": 53, 
       "text": [
        "[<matplotlib.lines.Line2D at 0x10a332c10>]"
       ]
      }
     ], 
     "prompt_number": 53
    }, 
    {
     "cell_type": "code", 
     "collapsed": false, 
     "input": [
      "plt.figure()", 
      "oneills_pitches = [note.ps for note in oneills[0][0].flat.notes]", 
      "", 
      "plt.plot(oneills_pitches, 'b')", 
      "plt.plot(generated, 'r')"
     ], 
     "language": "python", 
     "outputs": [
      {
       "output_type": "pyout", 
       "prompt_number": 54, 
       "text": [
        "[<matplotlib.lines.Line2D at 0x1057c6d10>]"
       ]
      }
     ], 
     "prompt_number": 54
    }, 
    {
     "cell_type": "code", 
     "collapsed": true, 
     "input": [], 
     "language": "python", 
     "outputs": []
    }
   ]
  }
 ]
}